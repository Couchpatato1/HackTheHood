{
  "nbformat": 4,
  "nbformat_minor": 0,
  "metadata": {
    "colab": {
      "provenance": [],
      "authorship_tag": "ABX9TyO0G+SmLwu2ft3bWK8EKFXi",
      "include_colab_link": true
    },
    "kernelspec": {
      "name": "python3",
      "display_name": "Python 3"
    },
    "language_info": {
      "name": "python"
    }
  },
  "cells": [
    {
      "cell_type": "markdown",
      "metadata": {
        "id": "view-in-github",
        "colab_type": "text"
      },
      "source": [
        "<a href=\"https://colab.research.google.com/github/Couchpatato1/HackTheHood/blob/main/Untitled0_.ipynb\" target=\"_parent\"><img src=\"https://colab.research.google.com/assets/colab-badge.svg\" alt=\"Open In Colab\"/></a>"
      ]
    },
    {
      "cell_type": "code",
      "execution_count": 2,
      "metadata": {
        "id": "_KIu8mX0jC72"
      },
      "outputs": [],
      "source": [
        "## Phu Tran, Tigher Team Tues: 1-3pm Red\n",
        "## Instructors: Yoline and Jazz\n",
        "\n",
        "## Github Profile: https://github.com/Couchpatato1"
      ]
    }
  ]
}