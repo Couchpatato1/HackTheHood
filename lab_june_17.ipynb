{
  "nbformat": 4,
  "nbformat_minor": 0,
  "metadata": {
    "colab": {
      "provenance": [],
      "authorship_tag": "ABX9TyNKvJGLlJ/VLO8PXbJ/uiya",
      "include_colab_link": true
    },
    "kernelspec": {
      "name": "python3",
      "display_name": "Python 3"
    },
    "language_info": {
      "name": "python"
    }
  },
  "cells": [
    {
      "cell_type": "markdown",
      "metadata": {
        "id": "view-in-github",
        "colab_type": "text"
      },
      "source": [
        "<a href=\"https://colab.research.google.com/github/Couchpatato1/HackTheHood/blob/main/lab_june_17.ipynb\" target=\"_parent\"><img src=\"https://colab.research.google.com/assets/colab-badge.svg\" alt=\"Open In Colab\"/></a>"
      ]
    },
    {
      "cell_type": "markdown",
      "source": [
        "# Lab Jun. 17\n",
        "\n",
        "## Into to Psudo Code"
      ],
      "metadata": {
        "id": "VsAAJc88w1qs"
      }
    },
    {
      "cell_type": "markdown",
      "source": [
        "#Rules to define variables\n",
        "1) Must start with a Letter or _Underscore\n",
        "\n",
        "2) Consists of Letters, Numbers and Underscores But it will not starts with a Number\n",
        "\n",
        "3) Variable names are case sensitive"
      ],
      "metadata": {
        "id": "F8aXBqBF7Zp4"
      }
    },
    {
      "cell_type": "code",
      "source": [
        "car = \"Mercedes\"\n",
        "Car = \"Audi\""
      ],
      "metadata": {
        "id": "2TDeIbTWx007"
      },
      "execution_count": 3,
      "outputs": []
    },
    {
      "cell_type": "code",
      "source": [
        "car"
      ],
      "metadata": {
        "colab": {
          "base_uri": "https://localhost:8080/",
          "height": 35
        },
        "id": "PtISur9j078b",
        "outputId": "fd6bfb46-b842-49c6-a009-ac2e50e8090d"
      },
      "execution_count": 4,
      "outputs": [
        {
          "output_type": "execute_result",
          "data": {
            "text/plain": [
              "'Mercedes'"
            ],
            "application/vnd.google.colaboratory.intrinsic+json": {
              "type": "string"
            }
          },
          "metadata": {},
          "execution_count": 4
        }
      ]
    },
    {
      "cell_type": "code",
      "source": [
        "print(Car)"
      ],
      "metadata": {
        "colab": {
          "base_uri": "https://localhost:8080/"
        },
        "id": "83H-mH_m1Cv9",
        "outputId": "aab487b2-9a53-466a-95db-c4e59d3babe1"
      },
      "execution_count": 6,
      "outputs": [
        {
          "output_type": "stream",
          "name": "stdout",
          "text": [
            "Audi\n"
          ]
        }
      ]
    },
    {
      "cell_type": "markdown",
      "source": [
        "### Psudo code for my application\n",
        "\n",
        "I want to write a program that takes user inputs and prints it back to the screen.\n",
        "\n",
        "`First_name` the user's first name\n",
        "\n",
        "`Last_Name` the user's last name\n",
        "\n",
        "`Age` the user's age\n",
        "\n",
        "`Fav_Colour` the user's favourite colour\n",
        "\n",
        "`Fav_Sport` the user's favourite sport\n",
        "\n",
        "`Fav_Team` the user's favourite team\n",
        "\n",
        "use a 'built-in' process to take user's data.\n",
        "\n",
        "use a 'built-in' process to display user's data."
      ],
      "metadata": {
        "id": "BcR49oYJ1I2x"
      }
    },
    {
      "cell_type": "markdown",
      "source": [
        "### Code for my application"
      ],
      "metadata": {
        "id": "4FmnGaWWQfIg"
      }
    },
    {
      "cell_type": "code",
      "source": [
        "First_name = 'John'\n",
        "Last_Name = 'Connor'\n",
        "Age = 23\n",
        "Fav_Colour = 'Gray'\n",
        "Fav_Sport = 'Soccer'\n",
        "Fav_Team = 'Man U'"
      ],
      "metadata": {
        "id": "wX5XnKud3Ktu"
      },
      "execution_count": 4,
      "outputs": []
    },
    {
      "cell_type": "code",
      "source": [
        "print(First_name)\n",
        "print(Last_name)\n",
        "print(Age)\n",
        "print(Fav_Colour)\n",
        "print(Fav_Sport)\n",
        "print(Fav_Team)"
      ],
      "metadata": {
        "colab": {
          "base_uri": "https://localhost:8080/"
        },
        "id": "SgVeGRRrQvf9",
        "outputId": "4f14814b-fdc6-48bb-8d16-f4dbc52aa3c9"
      },
      "execution_count": 5,
      "outputs": [
        {
          "output_type": "stream",
          "name": "stdout",
          "text": [
            "John\n",
            "Connor\n",
            "23\n",
            "Gray\n",
            "Soccer\n",
            "Man U\n"
          ]
        }
      ]
    },
    {
      "cell_type": "code",
      "source": [
        "First_name = input('What is your first name? ')"
      ],
      "metadata": {
        "colab": {
          "base_uri": "https://localhost:8080/"
        },
        "id": "dkZJ_vbs3l8V",
        "outputId": "1c4fd0ed-8bf6-4a8d-813f-43834b26261e"
      },
      "execution_count": 8,
      "outputs": [
        {
          "name": "stdout",
          "output_type": "stream",
          "text": [
            "What is your first name? tom\n"
          ]
        }
      ]
    },
    {
      "cell_type": "code",
      "source": [
        "print(First_name)"
      ],
      "metadata": {
        "colab": {
          "base_uri": "https://localhost:8080/"
        },
        "id": "nFpzVKQZ3_Jj",
        "outputId": "3798ae16-1d56-4c5f-8d4e-761990160d10"
      },
      "execution_count": 9,
      "outputs": [
        {
          "output_type": "stream",
          "name": "stdout",
          "text": [
            "tom\n"
          ]
        }
      ]
    },
    {
      "cell_type": "code",
      "source": [
        "First_name = input('What is your first name? ')\n",
        "# In this line I am using the input method to ask the usar's first name\n",
        "\n",
        "Last_Name = input('What is your last name? ')\n",
        "# In this line I am using the input method to ask the usar's last name\n",
        "\n",
        "Age = input('What is your age? ')\n",
        "# In this line I am using the input method to ask the usar's age\n",
        "\n",
        "Fav_Colour = input('What is your favourite colour? ')\n",
        "# In this line I am using the input method to ask the usar's favorite color\n",
        "\n",
        "Fav_Sport = input('What is your favourite sport? ')\n",
        "# In this line I am using the input method to ask the usar's favorite sport\n",
        "\n",
        "Fav_Team = input('What is your favourite team? ')\n",
        "# In this line I am using the input method to ask the usar's favorite team"
      ],
      "metadata": {
        "colab": {
          "base_uri": "https://localhost:8080/"
        },
        "id": "SfJhRnMP4Dyd",
        "outputId": "d14c5a5d-1000-4924-b598-7bbf39b8c659"
      },
      "execution_count": 6,
      "outputs": [
        {
          "name": "stdout",
          "output_type": "stream",
          "text": [
            "What is your first name? harry\n",
            "What is your last name? potter\n",
            "What is your age? 11\n",
            "What is your favourite colour? Red\n",
            "What is your favourite sport? Quidditch\n",
            "What is your favourite team? Gryffindor\n"
          ]
        }
      ]
    },
    {
      "cell_type": "code",
      "source": [
        "print(f\"User first name is, {First_name}, last name is, {Last_Name}, age is, {Age},\\\n",
        " favourite colour is, {Fav_Colour}, favourite sport is, {Fav_Sport}, favourite team is, {Fav_Team}\")"
      ],
      "metadata": {
        "colab": {
          "base_uri": "https://localhost:8080/"
        },
        "id": "4TMW0uqu5YD9",
        "outputId": "b71d5f84-0839-4f41-acd4-3d594f07c5d3"
      },
      "execution_count": 11,
      "outputs": [
        {
          "output_type": "stream",
          "name": "stdout",
          "text": [
            "User first name is, harry, last name is, potter, age is, 11, favourite colour is, Red, favourite sport is, Quidditch, favourite team is, Gryffindor\n"
          ]
        }
      ]
    },
    {
      "cell_type": "markdown",
      "source": [
        "# F-String Formatting"
      ],
      "metadata": {
        "id": "LpZPBGQl5nSu"
      }
    },
    {
      "cell_type": "code",
      "source": [
        "greetings=\"hello\"\n",
        "name=\"John\""
      ],
      "metadata": {
        "id": "RQJLgMVp6ns1"
      },
      "execution_count": 7,
      "outputs": []
    },
    {
      "cell_type": "code",
      "source": [
        "print(\"Hello there, John\")"
      ],
      "metadata": {
        "colab": {
          "base_uri": "https://localhost:8080/"
        },
        "id": "5Ozy2TeZ63bt",
        "outputId": "fa48870a-8c85-4934-a612-d920a6b05b10"
      },
      "execution_count": 14,
      "outputs": [
        {
          "output_type": "stream",
          "name": "stdout",
          "text": [
            "Hello there, John\n"
          ]
        }
      ]
    },
    {
      "cell_type": "code",
      "source": [
        "print(f\"{greetings} there, {name}\")"
      ],
      "metadata": {
        "colab": {
          "base_uri": "https://localhost:8080/"
        },
        "id": "yugF6tT5Lv_w",
        "outputId": "924ab481-1045-4798-8414-55ce2c1fe6da"
      },
      "execution_count": 8,
      "outputs": [
        {
          "output_type": "stream",
          "name": "stdout",
          "text": [
            "hello there, John\n"
          ]
        }
      ]
    },
    {
      "cell_type": "code",
      "source": [],
      "metadata": {
        "id": "Gge5zbg6WmqV"
      },
      "execution_count": null,
      "outputs": []
    }
  ]
}